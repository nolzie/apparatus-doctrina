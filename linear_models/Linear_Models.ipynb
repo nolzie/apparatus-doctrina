{
 "cells": [
  {
   "cell_type": "markdown",
   "id": "1dc9a559",
   "metadata": {},
   "source": [
    "## Least Squares and Nearest Neighbours\n",
    "#### Linear Models and Least Squares\n",
    "Note: This derivation comes from Elements of Statistical Learning by Trevor Hastie, Robert Tibshirani and Jerome Friedman\n",
    "\n",
    "Given a vector of inputs $X^T = (X_1, X_2, .... , X_p)$ the linear model makes predictions $Y$ based on:\n",
    "\\begin{equation}\n",
    "Y_p = X^T\\hat{\\beta}\n",
    "\\end{equation}\n",
    "Where $\\hat{\\beta}$ is a vector of coeffients (The slope and intercept of the linear line)\n",
    " \n",
    "##### Deriving a Solution for  $\\beta$\n",
    "To find a solution, we pick $\\beta$ to have minimise a residual sum of squares  \n",
    "\\begin{equation}\n",
    "RSS(\\beta) = \\sum_{i=1}^{N} (y_i- x_{i} ^ T)      \n",
    "\\end{equation}\n",
    "##### Intuition\n",
    "Basically the linear model fits a line to a set of data, typically this is done using least squares."
   ]
  },
  {
   "cell_type": "code",
   "execution_count": null,
   "id": "06a7dbf6",
   "metadata": {},
   "outputs": [],
   "source": []
  }
 ],
 "metadata": {
  "kernelspec": {
   "display_name": "Python 3 (ipykernel)",
   "language": "python",
   "name": "python3"
  },
  "language_info": {
   "codemirror_mode": {
    "name": "ipython",
    "version": 3
   },
   "file_extension": ".py",
   "mimetype": "text/x-python",
   "name": "python",
   "nbconvert_exporter": "python",
   "pygments_lexer": "ipython3",
   "version": "3.9.7"
  }
 },
 "nbformat": 4,
 "nbformat_minor": 5
}
