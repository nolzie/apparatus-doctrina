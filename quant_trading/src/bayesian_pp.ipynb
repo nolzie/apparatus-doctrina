{
 "cells": [
  {
   "cell_type": "markdown",
   "metadata": {},
   "source": [
    "## Bayesian Price Prediction\n",
    "### I want to see if I can use a bayesian method to generate some alpha over the market"
   ]
  },
  {
   "cell_type": "code",
   "execution_count": 3,
   "metadata": {},
   "outputs": [],
   "source": [
    "import pandas as pd\n",
    "import numpy as np\n",
    "import matplotlib.pyplot as plt\n",
    "import plotly as plot\n",
    "from sklearn.preprocessing import LabelEncoder\n",
    "from sklearn.preprocessing import OrdinalEncoder\n",
    "import seaborn as sns\n",
    "import umap\n",
    "from sklearn_extra.cluster import KMedoids\n",
    "import gower\n",
    "\n",
    "\n",
    "plt.style.use('bmh')\n",
    "sns.set_theme()"
   ]
  },
  {
   "cell_type": "code",
   "execution_count": 4,
   "metadata": {},
   "outputs": [],
   "source": [
    "file_location = \"/home/nolz/Documents/Development/apparatus-doctrina/quant_trading/data/SPY.csv\"\n",
    "price_data = pd.read_csv(file_location)"
   ]
  },
  {
   "cell_type": "code",
   "execution_count": null,
   "metadata": {},
   "outputs": [],
   "source": []
  }
 ],
 "metadata": {
  "kernelspec": {
   "display_name": "Python 3.9.13 ('base')",
   "language": "python",
   "name": "python3"
  },
  "language_info": {
   "codemirror_mode": {
    "name": "ipython",
    "version": 3
   },
   "file_extension": ".py",
   "mimetype": "text/x-python",
   "name": "python",
   "nbconvert_exporter": "python",
   "pygments_lexer": "ipython3",
   "version": "3.9.13"
  },
  "orig_nbformat": 4,
  "vscode": {
   "interpreter": {
    "hash": "28ab2279fb499f1058b1ef30ec432795a3e05cbead5bdb09b9db969464c9c3f1"
   }
  }
 },
 "nbformat": 4,
 "nbformat_minor": 2
}
